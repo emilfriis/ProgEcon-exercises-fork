{
 "cells": [
  {
   "cell_type": "markdown",
   "id": "a8c85370",
   "metadata": {},
   "source": [
    "# Problem Set 4 - Random Numbers"
   ]
  },
  {
   "cell_type": "markdown",
   "id": "4e858cff",
   "metadata": {},
   "source": [
    "**Table of contents**<a id='toc0_'></a>    \n",
    "- 1. [RNG Warm-up (Reproducibility Basics)](#toc1_)    \n",
    "- 2. [Simulate the chain and estimate steady state unemployment (2-States)](#toc2_)    \n",
    "  - 2.1. [Single Worker](#toc2_1_)    \n",
    "  - 2.2. [Many Workers](#toc2_2_)    \n",
    "- 3. [Spell lengths: Simulation vs. Theory](#toc3_)    \n",
    "  - 3.1. [Simulation-based Spells](#toc3_1_)    \n",
    "  - 3.2. [Theoretical Spells](#toc3_2_)    \n",
    "- 4. [From hazards to a 2×2 transition matrix](#toc4_)    \n",
    "- 5. [Power iteration (compute the stationary distribution)](#toc5_)    \n",
    "  - 5.1. [Implementing the function](#toc5_1_)    \n",
    "  - 5.2. [Implementing the function \\& comparison to closed form](#toc5_2_)    \n",
    "- 6. [3-state extension](#toc6_)    \n",
    "  - 6.1. [Simulate a 3-state path](#toc6_1_)    \n",
    "  - 6.2. [Build the 3-state transition matrix and compute stationary unemployment](#toc6_2_)    \n",
    "\n",
    "<!-- vscode-jupyter-toc-config\n",
    "\tnumbering=true\n",
    "\tanchor=true\n",
    "\tflat=false\n",
    "\tminLevel=2\n",
    "\tmaxLevel=6\n",
    "\t/vscode-jupyter-toc-config -->\n",
    "<!-- THIS CELL WILL BE REPLACED ON TOC UPDATE. DO NOT WRITE YOUR TEXT IN THIS CELL -->"
   ]
  },
  {
   "cell_type": "markdown",
   "id": "0b52d876",
   "metadata": {},
   "source": [
    "## 1. <a id='toc1_'></a>[RNG Warm-up (Reproducibility Basics)](#toc0_)\n",
    "\n",
    "**Goal.** Create reproducible draws; understand *seed vs stream*.\n",
    "\n",
    "- Create `rng = np.random.default_rng(2025)`.\n",
    "- Draw 5 uniforms and 5 normals.\n",
    "- Re-create the same sequence by constructing a **new** generator with the same seed.\n",
    "- Show that **calling the same generator twice** advances the stream (different outputs).\n",
    "\n"
   ]
  },
  {
   "cell_type": "code",
   "execution_count": 3,
   "id": "dd97ba6f",
   "metadata": {},
   "outputs": [],
   "source": [
    "import numpy as np\n",
    "\n",
    "# Starter (safe to run)\n",
    "rng = np.random.default_rng(2025)\n",
    "u1 = rng.random(5)\n",
    "z1 = rng.standard_normal(5)\n",
    "\n",
    "rng_same = np.random.default_rng(2025)\n",
    "# Task: Reproduce the first draws from the same seed\n",
    "# u2 = ...\n",
    "# z2 = ...\n",
    "\n",
    "# Stream progression (same generator again)\n",
    "u_next = rng.random(5)\n",
    "z_next = rng.standard_normal(5)"
   ]
  },
  {
   "cell_type": "code",
   "execution_count": 4,
   "id": "d88eb0ae",
   "metadata": {},
   "outputs": [
    {
     "name": "stdout",
     "output_type": "stream",
     "text": [
      "u1: [0.99445781 0.38200974 0.82714801 0.83725528 0.97580901]\n",
      "u2 (match u1): [0.99445781 0.38200974 0.82714801 0.83725528 0.97580901]\n",
      "z1: [ 0.7653914  -0.75970935  0.26699619  0.70178085  0.29212132]\n",
      "z2 (match z1): [ 0.7653914  -0.75970935  0.26699619  0.70178085  0.29212132]\n",
      "u_next (different): [0.38954302 0.23021956 0.16696115 0.15343643 0.9740917 ]\n",
      "z_next (different): [-0.3924407  -0.67731696  2.93601077 -0.66462723  1.25746344]\n"
     ]
    }
   ],
   "source": [
    "import runpy # runs A1.py as a script\n",
    "_ = runpy.run_module(\"A1\", run_name=\"__main__\")  # no big dict printed\n"
   ]
  },
  {
   "cell_type": "markdown",
   "id": "b83aff05",
   "metadata": {},
   "source": [
    "## 2. <a id='toc2_'></a>[Simulate the chain and estimate steady state unemployment (2-States)](#toc0_)\n",
    "\n",
    "**Goal.** Simulate the two-state Markov chain with transition matrix\n",
    "$$\n",
    "P=\\begin{pmatrix}1-s & s\\\\ f & 1-f\\end{pmatrix},\n",
    "$$\n",
    "produce a path of states $x_t\\in\\{0,1\\}$ with $0=\\text{E}$, $1=\\text{U}$, and use the simulated time average to estimate the steady state unemployment share. Compare it to the theoretical stationary value from Exercise 3, $\\pi_U^*=\\frac{s}{s+f}$."
   ]
  },
  {
   "cell_type": "markdown",
   "id": "81848f7a",
   "metadata": {},
   "source": [
    "**Intuition**?\n",
    " Think of each period, a worker is in one state (e.g., **Employed** `E` or **Unemployed** `U`).  \n",
    " - A **transition probability** tells you how likely it is to go from one state to another next period (e.g., `P(E→U)` is the job‑separation rate, `P(U→E)` is the job‑finding rate).  \n",
    " - Over time, repeatedly applying the transition matrix generates a **Markov chain**. Simulating with random numbers just means:  \n",
    "   1) For each individual and period, draw a uniform number `u ~ U[0,1]`.  \n",
    "   2) Compare `u` to the relevant row of the transition matrix to decide the next state.  \n"
   ]
  },
  {
   "cell_type": "markdown",
   "id": "5810886d",
   "metadata": {},
   "source": [
    "### 2.1. <a id='toc2_1_'></a>[Single Worker](#toc0_)\n",
    "\n",
    "**Goal.** Simulate a single worker who is hit by random shocks each period:\n",
    "\n",
    "If Employed ($E$), a bad shock causes separation to Unemployment ($U$) with probability $s$.\n",
    "\n",
    "If Unemployed ($U$), a good shock leads to job finding back to $E$ with probability $f$.\n",
    "No formulas—just randomness that switches states."
   ]
  },
  {
   "cell_type": "markdown",
   "id": "96f3f376",
   "metadata": {},
   "source": [
    "**Task: Implement the following:**"
   ]
  },
  {
   "cell_type": "markdown",
   "id": "fa4ebae5",
   "metadata": {},
   "source": [
    "1. Pick inputs: horizon $T$, separation probability $s$, job-finding probability $f$, initial state $s_0 \\in {0,1}$ (encode $0=E$, $1=U$), and a seed.\n",
    "\n",
    "2. For each period $t=0,\\dots,T-1$, draw one uniform $\\epsilon_t \\sim \\mathrm{U}[0,1]$ and apply:\n",
    "\n",
    "  - If in $E$: set next state to $U$ if $\\epsilon_t < s$, else stay in $E$.\n",
    "  - If in $U$: set next state to $E$ if $\\epsilon_t < f$, else stay in $U$.\n",
    "\n",
    "3. Store the whole path of length $T+1$ and report the share of time in $U$ (the mean, since $U=1$).\n"
   ]
  },
  {
   "cell_type": "markdown",
   "id": "19b392e0",
   "metadata": {},
   "source": [
    "**Hints**  \n",
    "\n",
    "- Use $0=E$, $1=U$ so averages give unemployment directly.\n",
    "- One fresh random draw per worker per period.\n",
    "- Start small ($T=20$, $N=5$) to print and check; then scale up.\n",
    "- Set a seed for reproducibility while debugging."
   ]
  },
  {
   "cell_type": "code",
   "execution_count": 5,
   "id": "a5d48087",
   "metadata": {},
   "outputs": [
    {
     "name": "stdout",
     "output_type": "stream",
     "text": [
      "First 10 shocks (uniforms): [0.625 0.897 0.776 0.225 0.3   0.874 0.005 0.821 0.797 0.468]\n",
      "First 10 states (0=E,1=U): [0, 0, 0, 0, 0, 0, 0, 1, 1, 1, 1]\n",
      "Share of time in U (single worker): 0.052\n"
     ]
    }
   ],
   "source": [
    "import runpy # runs A1.py as a script\n",
    "_ = runpy.run_module(\"A2_1\", run_name=\"__main__\")  # no big dict printed"
   ]
  },
  {
   "cell_type": "markdown",
   "id": "2deba82c",
   "metadata": {},
   "source": [
    "### 2.2. <a id='toc2_2_'></a>[Many Workers](#toc0_)\n",
    "\n",
    "- Next, simulate $N$ (e.g. 20,000) workers in parallel (one uniform per worker per period) and print the unemployment rate over time."
   ]
  },
  {
   "cell_type": "code",
   "execution_count": 15,
   "id": "27c1349a",
   "metadata": {},
   "outputs": [
    {
     "name": "stdout",
     "output_type": "stream",
     "text": [
      "First 10 unemployment rates: [0.    0.019 0.033 0.042 0.049 0.054 0.055 0.057 0.059 0.059]\n",
      "Last 10 unemployment rates : [0.064 0.063 0.064 0.065 0.061 0.06  0.06  0.06  0.061 0.061]\n",
      "Overall unemployment rate : 0.06251498350164984\n"
     ]
    }
   ],
   "source": [
    "import runpy # runs A1.py as a script\n",
    "_ = runpy.run_module(\"A2_2\", run_name=\"__main__\")  # no big dict printed"
   ]
  },
  {
   "cell_type": "markdown",
   "id": "17b53eaf",
   "metadata": {},
   "source": [
    "## 3. <a id='toc3_'></a>[Spell lengths: Simulation vs. Theory](#toc0_)"
   ]
  },
  {
   "cell_type": "markdown",
   "id": "d3813915",
   "metadata": {},
   "source": [
    "**Goal.** From a simulated path of states ($0=E$, $1=U$), measure how long unemployment and employment spells last. Think of a spell as a streak: consecutive $U$’s is one unemployment spell; consecutive $E$’s is one employment spell. Then compare your measured averages to what you’d expect if shocks hit with constant per-period chances:\n",
    "- Unemployment spells end when a good shock arrives (probability $f$ per period).\n",
    "- Employment spells end when a bad shock arrives (probability $s$ per period).\n",
    "So the “typical” spell length should be about $1/f$ for $U$ and $1/s$ for $E$."
   ]
  },
  {
   "cell_type": "markdown",
   "id": "5dcbef91",
   "metadata": {},
   "source": [
    "### 3.1. <a id='toc3_1_'></a>[Simulation-based Spells](#toc0_)"
   ]
  },
  {
   "cell_type": "markdown",
   "id": "e7a6ce1e",
   "metadata": {},
   "source": [
    "**Tasks.** \n",
    "\n",
    "1. Get a path: simulate a state path of length $T+1$ using your $s$ and $f$ (or reuse your earlier simulation for the many worker case). Encode $0=E$ and $1=U$.\n",
    "\n",
    "2. Identify spells as streaks:\n",
    "        - An unemployment spell is a run of 1’s (e.g., ... 0 1 1 1 0 ... has one $U$ spell of length 3).\n",
    "        - An employment spell is a run of 0’s.\n",
    "        - We ignore right-censored final spells (a trailing run that does not end within the sample).\n",
    "\n",
    "3. Measure lengths: scan the path and record the length of each run of 1’s (for $U$) and each run of 0’s (for $E$).        \n",
    "\n",
    "4. Optional: Plot histograms of spell lengths and overlay the geometric PMF to see the match visually."
   ]
  },
  {
   "cell_type": "code",
   "execution_count": 16,
   "id": "8d73a16c",
   "metadata": {},
   "outputs": [
    {
     "name": "stdout",
     "output_type": "stream",
     "text": [
      "Pooled unemployment (T×N)  : 0.063\n",
      "Unemployment spells: count=3,748,661, mean=3.335, theory~3.333\n",
      "Employment   spells: count=3,749,878, mean=49.753, theory~50.000\n"
     ]
    }
   ],
   "source": [
    "import runpy # runs A3_1.py as a script\n",
    "_ = runpy.run_module(\"A3_1\", run_name=\"__main__\");  # no big dict printed\n"
   ]
  },
  {
   "cell_type": "markdown",
   "id": "983c6a2b",
   "metadata": {},
   "source": [
    "### 3.2. <a id='toc3_2_'></a>[Theoretical Spells](#toc0_)\n",
    "\n",
    "1. Compare your simulation based spells to the geometric predictions, i.e.\n",
    "- Unemployment spell length is geometric with mean $\\mathbb{E}[T_U]=1/f$.\n",
    "- Employment spell length is geometric with mean $\\mathbb{E}[T_E]=1/s$.\n",
    "\n",
    "2. Plot histograms of $U$- and $E$-spell lengths and overlay the geometric pmf with parameters $f$ and $s$."
   ]
  },
  {
   "cell_type": "code",
   "execution_count": 8,
   "id": "98a7af32",
   "metadata": {},
   "outputs": [
    {
     "name": "stdout",
     "output_type": "stream",
     "text": [
      "Pooled unemployment (T×N)  : 0.063\n",
      "Unemployment spells: count=3,748,661, mean=3.335, theory~3.333\n",
      "Employment   spells: count=3,749,878, mean=49.753, theory~50.000\n",
      "Unemployment spells (U=1): count=3,748,661\n",
      "  Sample mean length   : 3.335\n",
      "  Theoretical 1/f      : 3.333\n",
      "\n",
      "Employment spells (E=0): count=3,749,878\n",
      "  Sample mean length   : 49.753\n",
      "  Theoretical 1/s      : 50.000\n"
     ]
    },
    {
     "data": {
      "image/png": "[encoded data removed]",
      "text/plain": [
       "<Figure size 640x480 with 1 Axes>"
      ]
     },
     "metadata": {},
     "output_type": "display_data"
    },
    {
     "data": {
      "image/png": "[encoded data removed]",
      "text/plain": [
       "<Figure size 640x480 with 1 Axes>"
      ]
     },
     "metadata": {},
     "output_type": "display_data"
    }
   ],
   "source": [
    "import runpy # \n",
    "_ = runpy.run_module(\"A3_2\", run_name=\"__main__\");  # no big dict printed"
   ]
  },
  {
   "cell_type": "markdown",
   "id": "a7e6699a",
   "metadata": {},
   "source": [
    "**Interpretation.** Discuss briefly the economic intuition of what you have computed and what the plots show."
   ]
  },
  {
   "cell_type": "markdown",
   "id": "43517432",
   "metadata": {},
   "source": [
    "## 4. <a id='toc4_'></a>[From hazards to a 2×2 transition matrix](#toc0_)\n",
    "\n",
    "Let $s\\in(0,1)$ be the probability to lose one's job (separation probability - transition from E to U) and $f\\in(0,1)$ the job-finding probability (transition from U to E):\n",
    "$$\n",
    "P = \\begin{pmatrix}\n",
    "1-s & s\\\\\\\\\n",
    "f & 1-f\n",
    "\\end{pmatrix}.\n",
    "$$\n",
    "\n",
    "**Matrix Interpretation**  \n",
    "- States: `E=0` (employed), `U=1` (unemployed).  \n",
    "- Rows = current state, columns = next state.  \n",
    "  - From `E`: stay employed with prob `1−s`, move to `U` with prob `s`.  \n",
    "  - From `U`: find a job with prob `f`, stay unemployed with prob `1−f`.  \n",
    "- $P$ is **row-stochastic**: each row sums to 1 and all entries are in $[0,1]$.\n",
    "\n",
    "**Your tasks**  \n",
    "1. Implement `make_P_2state(s, f)` returning the matrix above.  \n",
    "2. Validate that entries are in $[0,1]$ and each row sums to 1.\n"
   ]
  },
  {
   "cell_type": "code",
   "execution_count": 9,
   "id": "164b0fd2",
   "metadata": {},
   "outputs": [],
   "source": [
    "def make_P_2state(s, f):\n",
    "    \"\"\"Return a 2x2 row-stochastic transition matrix for E=0, U=1.\n",
    "    \"\"\"\n",
    "    assert 0.0 <= s <= 1.0 and 0.0 <= f <= 1.0, \"Probabilities must be in [0,1].\"\n",
    "    # TODO: implement\n",
    "    P = np.array([[1.0, 0.0],\n",
    "                  [0.0, 1.0]], dtype=float)\n",
    "\n",
    "    return P\n",
    "\n",
    "# Validator will be defined in solution; checks follow there.\n"
   ]
  },
  {
   "cell_type": "code",
   "execution_count": 10,
   "id": "daf5a669",
   "metadata": {},
   "outputs": [],
   "source": [
    "import runpy # \n",
    "_ = runpy.run_module(\"A4\", run_name=\"__main__\");  # no big dict printed"
   ]
  },
  {
   "cell_type": "markdown",
   "id": "12cc25c9",
   "metadata": {},
   "source": [
    "## 5. <a id='toc5_'></a>[Power iteration (compute the stationary distribution)](#toc0_)\n",
    "\n",
    "**Idea.** Think of $\\mu^{(t)}$ as the share of people in each state at time $t$.\n",
    "If everyone follows the same transition rules $P$, then next period’s shares are\n",
    "$$\n",
    "\\mu^{(t+1)} \\;=\\; \\mu^{(t)} P\n",
    "$$\n",
    "If you keep applying this update, the shares typically settle down to a fixed vector $\\pi$ that doesn’t change when you multiply by $P$. That $\\pi$ is the stationary distribution.\n"
   ]
  },
  {
   "cell_type": "markdown",
   "id": "3bb26a8e",
   "metadata": {},
   "source": [
    "### 5.1. <a id='toc5_1_'></a>[Implementing the function](#toc0_)\n",
    "\n",
    "**Task.** \n",
    "\n",
    "- Implement a function `stationary_power(P, tol=1e-12, maxit=1_000_000, mu0=None)` that returns `(mu, iters)` where:\n",
    "  - `P` is an $n\\times n$ **row-stochastic** matrix (each row sums to 1, entries in $[0,1]$).\n",
    "  - `mu0` is an optional initial distribution $\\mu^{(0)}$ (shape `(n,)`); if `None`, use the uniform vector.\n",
    "  - Start from any probability vector $\\mu^{(0)}$ (e.g., uniform).\n",
    "  - Repeatedly update $\\mu \\leftarrow \\mu P$.\n",
    "  - Stop when $|\\mu^{(t+1)}-\\mu^{(t)}|_\\infty < \\texttt{tol}$ (the biggest absolute change in any entry is small).\n",
    "  - Return the final $\\mu$ (renormalized to sum to 1) and how many iterations it took.\n"
   ]
  },
  {
   "cell_type": "code",
   "execution_count": 11,
   "id": "44a5ba4c",
   "metadata": {},
   "outputs": [],
   "source": [
    "import runpy # \n",
    "_ = runpy.run_module(\"A5_1\", run_name=\"__main__\");  # no big dict printed"
   ]
  },
  {
   "cell_type": "markdown",
   "id": "40052133",
   "metadata": {},
   "source": [
    "### 5.2. <a id='toc5_2_'></a>[Implementing the function \\& comparison to closed form](#toc0_)\n",
    "\n",
    "**Task.** \n",
    "\n",
    "1. **Apply the function.** Use your function `stationary_power(P, tol, maxit, mu0)` to obtain\n",
    "   $$\n",
    "   (\\pi,\\ \\texttt{iters}), \\qquad \\pi=(\\pi_E,\\pi_U), \\quad \\pi=\\pi P,\\quad \\pi_E+\\pi_U=1.\n",
    "   $$\n",
    "   Report \\(\\pi_U\\) (the stationary unemployment rate) and the iteration count.\n",
    "\n",
    "2. **Closed-form benchmark.** Compute the theoretical steady state implied by the hazards:\n",
    "   $$\n",
    "   \\pi_U^{\\text{cf}}=\\frac{s}{s+f}\n",
    "   $$\n",
    "\n",
    "3. **Compare.** Verify numerically that\n",
    "   $$\n",
    "   \\bigl|\\pi_U - \\pi_U^{\\text{cf}}\\bigr| \\;<\\; 10^{-10}\n",
    "   $$\n"
   ]
  },
  {
   "cell_type": "code",
   "execution_count": 12,
   "id": "cc0216eb",
   "metadata": {},
   "outputs": [
    {
     "name": "stdout",
     "output_type": "stream",
     "text": [
      "Transition matrix P:\n",
      "[[0.98 0.02]\n",
      " [0.3  0.7 ]]\n",
      "\n",
      "Stationary distribution (power iteration): pi_E=0.937499999998, pi_U=0.062500000002\n",
      "Iterations used: 68\n",
      "\n",
      "Closed-form unemployment: pi_U_cf = s/(s+f) = 0.062500000000\n",
      "Absolute difference      : |pi_U - pi_U_cf| = 1.785e-12\n"
     ]
    }
   ],
   "source": [
    "import runpy # \n",
    "_ = runpy.run_module(\"A5_2\", run_name=\"__main__\");  # no big dict printed"
   ]
  },
  {
   "cell_type": "markdown",
   "id": "e6e7ffd5",
   "metadata": {},
   "source": [
    "## 6. <a id='toc6_'></a>[3-state extension](#toc0_)\n",
    "\n",
    "**Setup.** States are encoded as **`E=0`** (employed), **`U=1`** (short-term unemployed), **`L=2`** (long-term unemployed)."
   ]
  },
  {
   "cell_type": "markdown",
   "id": "9c113229",
   "metadata": {},
   "source": [
    "### 6.1. <a id='toc6_1_'></a>[Simulate a 3-state path](#toc0_)\n",
    "\n",
    "**Goal.** Simulate a panel of workers over time where each worker gets one random shock per period and moves according to the current row of a $3\\times3$ transition matrix.\n",
    "\n",
    "**Inputs.**\n",
    "Horizon $T$, workers $N$, probabilities per period $s$ ($E\\!\\to\\!U$), $f_s$ ($U\\!\\to\\!E$), $\\ell$ ($U\\!\\to\\!L$), $f_\\ell$ ($L\\!\\to\\!E$), and initial states. Require $s,f_s,\\ell,f_\\ell\\in[0,1]$ and $f_s+\\ell\\le1$. \n",
    "\n",
    "**Use the following parameter values for your simulation:**\n",
    "- T   = 10_000   # horizon\n",
    "- N   = 20_000   # number of workers\n",
    "- s   = 0.02     # E -> U separation probability\n",
    "- f_s = 0.30     # U -> E job-finding probability\n",
    "- ell = 0.10     # U -> L progression probability\n",
    "- f_l = 0.20     # L -> E job-finding probability\n",
    "\n",
    "**Dynamics (each period, each worker).**\n",
    "- If in $E$: with prob $s$ go to $U$, else stay $E$.\n",
    "- If in $U$: with prob $f_s$ go to $E$; else if $u<f_s+\\ell$ go to $L$; else stay $U$.\n",
    "- If in $L$: with prob $f_\\ell$ go to $E$, else stay $L$.\n",
    "\n",
    "**Task.**\n",
    "1) Extend the function `simulate_many_workers_shocks` from above to `simulate_many_workers_shocks_3state`.\n",
    "2) Build `states` of shape $(T+1,N)$ with entries in $\\{0,1,2\\}$ and set `states[0,:]`.\n",
    "3) Print the first and last 10 unemployment rates; the time-average; and the pooled unemployment (T $\\times$ N).\n",
    "\n",
    "**Hints.**\n",
    "- Use cumulative thresholds: for $U$, compare $u$ to $f_s$ and $f_s+\\ell$.\n",
    "- Vectorize with boolean masks for current $E/U/L$; or start with simple loops.\n",
    "- Set a seed for reproducibility.\n"
   ]
  },
  {
   "cell_type": "code",
   "execution_count": 13,
   "id": "747f3eb8",
   "metadata": {},
   "outputs": [
    {
     "name": "stdout",
     "output_type": "stream",
     "text": [
      "First 10 unemployment rates: [0.    0.019 0.033 0.042 0.05  0.055 0.056 0.06  0.062 0.063]\n",
      "Last 10 unemployment rates : [0.071 0.069 0.072 0.073 0.069 0.067 0.067 0.067 0.068 0.069]\n",
      "Time-avg unemployment      : 0.070\n",
      "Pooled unemployment (T×N)  : 0.093\n"
     ]
    }
   ],
   "source": [
    "import runpy # \n",
    "_ = runpy.run_module(\"A6_1\", run_name=\"__main__\");  # no big dict printed"
   ]
  },
  {
   "cell_type": "markdown",
   "id": "480c3ca6",
   "metadata": {},
   "source": [
    "### 6.2. <a id='toc6_2_'></a>[Build the 3-state transition matrix and compute stationary unemployment](#toc0_)\n",
    "\n",
    "**1) Construct $P$ (rows = current state, cols = next state).**\n",
    "$$\n",
    "P \\equiv\n",
    "\\begin{bmatrix}\n",
    "1-s & s & 0 \\\\\n",
    "f_s & 1-f_s-\\ell & \\ell \\\\\n",
    "f_\\ell & 0 & 1-f_\\ell\n",
    "\\end{bmatrix}\n",
    "$$\n",
    "Check: each row sums to $1$ and entries are in $[0,1]$.\n",
    "\n",
    "**2) Compute the stationary distribution $\\pi=(\\pi_0,\\pi_1,\\pi_2)$.**\n",
    "Interpretation: $\\pi_0=\\Pr(E)$, $\\pi_1=\\Pr(U)$, $\\pi_2=\\Pr(L)$ in the long run.\n",
    "- start $\\pi^{(0)}$, iterate $\\pi^{(t+1)}=\\pi^{(t)}P$ until convergence.\n",
    "\n",
    "**3) Compute the steady state unemployment rate.**\n",
    "$$ \n",
    "u^\\ast = \\pi_1 + \\pi_2 \\quad\\text{(steady state share in $U$ or $L$).}\n",
    "$$ \n"
   ]
  },
  {
   "cell_type": "code",
   "execution_count": 14,
   "id": "fe0c7793",
   "metadata": {},
   "outputs": [
    {
     "name": "stdout",
     "output_type": "stream",
     "text": [
      "Transition matrix P:\n",
      " [[0.98 0.02 0.  ]\n",
      " [0.3  0.6  0.1 ]\n",
      " [0.2  0.   0.8 ]]\n",
      "Stationary distribution pi (E, U, L): [0.930233 0.046512 0.023256]\n",
      "Steady-state unemployment u* (= pi_U + pi_L): 0.069767\n",
      "Converged in iterations: 129\n"
     ]
    }
   ],
   "source": [
    "import runpy # \n",
    "_ = runpy.run_module(\"A6_2\", run_name=\"__main__\");  # no big dict printed"
   ]
  }
 ],
 "metadata": {
  "kernelspec": {
   "display_name": "base",
   "language": "python",
   "name": "python3"
  },
  "language_info": {
   "codemirror_mode": {
    "name": "ipython",
    "version": 3
   },
   "file_extension": ".py",
   "mimetype": "text/x-python",
   "name": "python",
   "nbconvert_exporter": "python",
   "pygments_lexer": "ipython3",
   "version": "3.13.5"
  }
 },
 "nbformat": 4,
 "nbformat_minor": 5
}
